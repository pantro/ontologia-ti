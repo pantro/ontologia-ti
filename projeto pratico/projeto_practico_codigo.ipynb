{
  "cells": [
    {
      "cell_type": "code",
      "execution_count": null,
      "metadata": {
        "colab": {
          "base_uri": "https://localhost:8080/"
        },
        "id": "1dMSKGV-M7kp",
        "outputId": "492924ce-ea87-445b-eb5f-a5fb607fa2ea"
      },
      "outputs": [
        {
          "name": "stdout",
          "output_type": "stream",
          "text": [
            "Looking in indexes: https://pypi.org/simple, https://us-python.pkg.dev/colab-wheels/public/simple/\n",
            "Collecting owlready2\n",
            "  Downloading Owlready2-0.39.tar.gz (25.5 MB)\n",
            "\u001b[K     |████████████████████████████████| 25.5 MB 1.2 MB/s \n",
            "\u001b[?25hBuilding wheels for collected packages: owlready2\n",
            "  Building wheel for owlready2 (setup.py) ... \u001b[?25l\u001b[?25hdone\n",
            "  Created wheel for owlready2: filename=Owlready2-0.39-cp37-cp37m-linux_x86_64.whl size=22132071 sha256=8a3d8426e0c80f405154139165a04591f574147d886d6f1a91883cbf4070df1a\n",
            "  Stored in directory: /root/.cache/pip/wheels/c9/5b/fc/da1e42a17f22cd62bfb170f847a3fb541a7f628858ad3595ec\n",
            "Successfully built owlready2\n",
            "Installing collected packages: owlready2\n",
            "Successfully installed owlready2-0.39\n"
          ]
        }
      ],
      "source": [
        "!pip install owlready2"
      ]
    },
    {
      "cell_type": "code",
      "execution_count": null,
      "metadata": {
        "colab": {
          "base_uri": "https://localhost:8080/"
        },
        "id": "a2gd51d3NTKG",
        "outputId": "6ba9f32e-e955-4c08-c39c-0ace014c9fd9"
      },
      "outputs": [
        {
          "name": "stdout",
          "output_type": "stream",
          "text": [
            "Mounted at /content/drive\n"
          ]
        }
      ],
      "source": [
        "from google.colab import drive\n",
        "drive.mount('/content/drive')"
      ]
    },
    {
      "cell_type": "code",
      "execution_count": null,
      "metadata": {
        "colab": {
          "base_uri": "https://localhost:8080/"
        },
        "id": "lMT83EmyNbV4",
        "outputId": "10f1abf2-eef3-49bf-b609-284ed16522df"
      },
      "outputs": [
        {
          "name": "stdout",
          "output_type": "stream",
          "text": [
            "mit.owl\n"
          ]
        }
      ],
      "source": [
        "!ls \"./drive/MyDrive/Colab Notebooks/ontologias/\""
      ]
    },
    {
      "cell_type": "code",
      "execution_count": null,
      "metadata": {
        "id": "OQGHE7q2vHgE"
      },
      "outputs": [],
      "source": [
        "from owlready2 import *"
      ]
    },
    {
      "cell_type": "code",
      "execution_count": null,
      "metadata": {
        "id": "dFQ7RdrvPnMs"
      },
      "outputs": [],
      "source": [
        "world = World()\n",
        "#Importando ontologia: Lembrar o caminho onde a ontologia foi adicionada\n",
        "#mit = get_ontology(\"./drive/MyDrive/Colab Notebooks/MO656/mit.owl\").load()\n",
        "mit = get_ontology(\"./drive/MyDrive/Colab Notebooks/ontologias/mit.owl\").load()\n"
      ]
    },
    {
      "cell_type": "code",
      "execution_count": null,
      "metadata": {
        "colab": {
          "base_uri": "https://localhost:8080/"
        },
        "id": "dCmc4VeKv3C2",
        "outputId": "ae42e456-b63a-43cc-f2d8-f552e21f9150"
      },
      "outputs": [
        {
          "data": {
            "text/plain": [
              "[mit.Palavra_Chave,\n",
              " mit.Comprador_TI,\n",
              " mit.Tecnologia,\n",
              " mit.Perfil_TI,\n",
              " mit.Projeto,\n",
              " mit.Vendedor_TI,\n",
              " mit.Empresa,\n",
              " mit.Backend,\n",
              " mit.Banco_Dados,\n",
              " mit.Frontend,\n",
              " mit.Nao_Relacional,\n",
              " mit.Outras,\n",
              " mit.Relacional]"
            ]
          },
          "execution_count": 6,
          "metadata": {},
          "output_type": "execute_result"
        }
      ],
      "source": [
        "#Classes de ontologia\n",
        "list(mit.classes())"
      ]
    },
    {
      "cell_type": "code",
      "execution_count": null,
      "metadata": {
        "colab": {
          "base_uri": "https://localhost:8080/"
        },
        "id": "82syZcZwwTna",
        "outputId": "ef2b7839-cf4c-4052-ef29-746439e927e8"
      },
      "outputs": [
        {
          "data": {
            "text/plain": [
              "[mit.pertence_comprador_ti,\n",
              " mit.tem_palavra_chave,\n",
              " mit.pertence_perfil_ti,\n",
              " mit.tem_tecnologia,\n",
              " mit.tem_perfil_ti,\n",
              " mit.tem_projeto]"
            ]
          },
          "execution_count": 7,
          "metadata": {},
          "output_type": "execute_result"
        }
      ],
      "source": [
        "#Propriedades do objeto\n",
        "list(mit.object_properties())"
      ]
    },
    {
      "cell_type": "code",
      "execution_count": null,
      "metadata": {
        "colab": {
          "base_uri": "https://localhost:8080/"
        },
        "id": "_NC9cWWWwA-r",
        "outputId": "9f619892-b963-4d84-de07-32de2760bf97"
      },
      "outputs": [
        {
          "data": {
            "text/plain": [
              "[mit.tem_id_empresa,\n",
              " mit.tem_id_palavra_chave,\n",
              " mit.tem_id_perfil_ti,\n",
              " mit.tem_id_projeto,\n",
              " mit.tem_id_tecnologia,\n",
              " mit.tem_localizacao_empresa,\n",
              " mit.tem_nome_empresa,\n",
              " mit.tem_nome_palavra_chave,\n",
              " mit.tem_nome_perfil_ti,\n",
              " mit.tem_nome_projeto,\n",
              " mit.tem_nome_tecnologia,\n",
              " mit.tem_resumo_projeto]"
            ]
          },
          "execution_count": 8,
          "metadata": {},
          "output_type": "execute_result"
        }
      ],
      "source": [
        "#Propriedades de dados\n",
        "list(mit.data_properties())"
      ]
    },
    {
      "cell_type": "markdown",
      "metadata": {
        "id": "rjx7qmeg7O8s"
      },
      "source": [
        "#Criação de instâncias de cada classe da ontologia."
      ]
    },
    {
      "cell_type": "code",
      "execution_count": null,
      "metadata": {
        "id": "3lXKIjZqtrDg"
      },
      "outputs": [],
      "source": [
        "def criarID (numero:int):\n",
        "  resultado = ''\n",
        "  if numero > 98:\n",
        "    resultado = str(numero+1)\n",
        "  elif numero > 8:\n",
        "    resultado = '0'+str(numero+1)\n",
        "  else:\n",
        "    resultado = '00'+str(numero+1)\n",
        "\n",
        "  return resultado\n",
        "\n",
        "#Crie empresa\n",
        "def criarEmpresa(nome:str, localizacao:str):\n",
        "  #Crie ID\n",
        "  id_empresa = 'E_'+(criarID(len(mit.Empresa.direct_instances())))\n",
        "  #Crie Instancia\n",
        "  empresa = mit.Empresa(id_empresa)\n",
        "  #Data properties\n",
        "  empresa.tem_id_empresa = [id_empresa]\n",
        "  empresa.tem_nome_empresa = [nome.lower()]\n",
        "  empresa.tem_localizacao_empresa = [localizacao]\n",
        "\n",
        "  return empresa\n",
        "\n",
        "#Crie comprador\n",
        "def criarComprador(nome:str, localizacao:str):\n",
        "  #Crie ID\n",
        "  id_comprador = 'C_'+(criarID(len(mit.Comprador_TI.instances())))\n",
        "  #Crie Instancia\n",
        "  comprador = mit.Comprador_TI(id_comprador)\n",
        "  #Data properties\n",
        "  comprador.tem_id_empresa = [id_comprador]\n",
        "  comprador.tem_nome_empresa = [nome.lower()]\n",
        "  comprador.tem_localizacao_empresa = [localizacao]\n",
        "\n",
        "  return comprador\n",
        "\n",
        "#Crie vendedor\n",
        "def criarVendedor(nome:str, localizacao:str):\n",
        "  #Crie ID\n",
        "  id_vendedor = 'V_'+(criarID(len(mit.Vendedor_TI.instances())))\n",
        "  #Crie Instancia\n",
        "  vendedor = mit.Vendedor_TI(id_vendedor)\n",
        "  #Data properties\n",
        "  vendedor.tem_id_empresa = [id_vendedor]\n",
        "  vendedor.tem_nome_empresa = [nome.lower()]\n",
        "  vendedor.tem_localizacao_empresa = [localizacao]\n",
        "\n",
        "  return vendedor\n",
        "\n",
        "#Crie Projeto\n",
        "def criarProjeto(nome:str, resumo:str):\n",
        "  #Crie ID\n",
        "  id_projeto = 'P_'+(criarID(len(mit.Projeto.instances())))\n",
        "  #Crie Instancia\n",
        "  projeto = mit.Projeto(id_projeto)\n",
        "  #Data properties\n",
        "  projeto.tem_id_projeto = [id_projeto]\n",
        "  projeto.tem_nome_projeto = [nome.lower()]\n",
        "  projeto.tem_resumo_projeto = [resumo]\n",
        "\n",
        "  return projeto\n",
        "\n",
        "#Crie Perfil_TI\n",
        "def criarPerfilTI(nome:str):\n",
        "  #Crie ID\n",
        "  id_perfil_ti = 'PTI_'+(criarID(len(mit.Perfil_TI.instances())))\n",
        "  #Crie Instancia\n",
        "  perfil_ti = mit.Perfil_TI(id_perfil_ti)\n",
        "  #Data properties\n",
        "  perfil_ti.tem_id_perfil_ti = [id_perfil_ti]\n",
        "  perfil_ti.tem_nome_perfil_ti = [nome.lower()]\n",
        "\n",
        "  return perfil_ti\n",
        "\n",
        "#Crie Tecnologia\n",
        "def criarTecnologia(nome:str):\n",
        "  #Crie ID\n",
        "  id_tecnologia = 'T_'+(criarID(len(mit.Tecnologia.instances())))\n",
        "  #Crie Instancia\n",
        "  tecnologia = mit.Tecnologia(id_tecnologia)\n",
        "  #Data properties\n",
        "  tecnologia.tem_id_tecnologia = [id_tecnologia]\n",
        "  tecnologia.tem_nome_tecnologia = [nome.lower()]\n",
        "\n",
        "  return tecnologia\n",
        "\n",
        "#Crie Tecnologia\n",
        "def criarBancoDados(nome:str):\n",
        "  #Crie ID\n",
        "  id_bd = 'BD_'+(criarID(len(mit.Banco_Dados.instances())))\n",
        "  #Crie Instancia\n",
        "  bd = mit.Banco_Dados(id_bd)\n",
        "  #Data properties\n",
        "  bd.tem_id_tecnologia = [id_bd]\n",
        "  bd.tem_nome_tecnologia = [nome.lower()]\n",
        "\n",
        "  return bd\n",
        "\n",
        "#Crie Relacional\n",
        "def criarRelacional(nome:str):\n",
        "  #Crie ID\n",
        "  id_bdr = 'BDR_'+(criarID(len(mit.Relacional.instances())))\n",
        "  #Crie Instancia\n",
        "  bdr = mit.Relacional(id_bdr)\n",
        "  #Data properties\n",
        "  bdr.tem_id_tecnologia = [id_bdr]\n",
        "  bdr.tem_nome_tecnologia = [nome.lower()]\n",
        "\n",
        "  return bdr\n",
        "\n",
        "#Crie Nao Relacional\n",
        "def criarNaoRelacional(nome:str):\n",
        "  #Crie ID\n",
        "  id_bdnr = 'BDNR_'+(criarID(len(mit.Nao_Relacional.instances())))\n",
        "  #Crie Instancia\n",
        "  bdnr = mit.Nao_Relacional(id_bdnr)\n",
        "  #Data properties\n",
        "  bdnr.tem_id_tecnologia = [id_bdnr]\n",
        "  bdnr.tem_nome_tecnologia = [nome.lower()]\n",
        "\n",
        "  return bdnr\n",
        "\n",
        "#Crie frontend\n",
        "def criarFrontend(nome:str):\n",
        "  #Crie ID\n",
        "  id_frontend = 'F_'+(criarID(len(mit.Frontend.instances())))\n",
        "  #Crie Instancia\n",
        "  frontend = mit.Frontend(id_frontend)\n",
        "  #Data properties\n",
        "  frontend.tem_id_tecnologia = [id_frontend]\n",
        "  frontend.tem_nome_tecnologia = [nome.lower()]\n",
        "\n",
        "  return frontend\n",
        "\n",
        "#Crie backend\n",
        "def criarBackend(nome:str):\n",
        "  #Crie ID\n",
        "  id_backend = 'B_'+(criarID(len(mit.Backend.instances())))\n",
        "  #Crie Instancia\n",
        "  backend = mit.Backend(id_backend)\n",
        "  #Data properties\n",
        "  backend.tem_id_tecnologia = [id_backend]\n",
        "  backend.tem_nome_tecnologia = [nome.lower()]\n",
        "\n",
        "  return backend\n",
        "\n",
        "#Crie Outras\n",
        "def criarOutras(nome:str):\n",
        "  #Crie ID\n",
        "  id_outras = 'T_'+(criarID(len(mit.Outras.instances())))\n",
        "  #Crie Instancia\n",
        "  outras = mit.Outras(id_outras)\n",
        "  #Data properties\n",
        "  outras.tem_id_tecnologia = [id_outras]\n",
        "  outras.tem_nome_tecnologia = [nome.lower()]\n",
        "\n",
        "  return outras\n",
        "\n",
        "#Crie Palavra Chave\n",
        "def criarPalavraChave(nome:str):\n",
        "  #Crie ID\n",
        "  id_palavra_chave = 'PC_'+(criarID(len(mit.Palavra_Chave.instances())))\n",
        "  #Crie Instancia\n",
        "  palavra_chave = mit.Palavra_Chave(id_palavra_chave)\n",
        "  #Data properties\n",
        "  palavra_chave.tem_id_palavra_chave = [id_palavra_chave]#atributo id palavra chave\n",
        "  palavra_chave.tem_nome_palavra_chave = [nome.lower()]#atributo nome palavra chave\n",
        "\n",
        "  return palavra_chave"
      ]
    },
    {
      "cell_type": "code",
      "execution_count": null,
      "metadata": {
        "id": "8I2cWC7eOICS"
      },
      "outputs": [],
      "source": [
        "def procurarEmpresa(nome:str):\n",
        "  empresa = list(default_world.sparql(\"\"\"\n",
        "      SELECT ?p WHERE {\n",
        "        ?p <http://www.semanticweb.org/pantro/ontologies/2022/8/match#tem_nome_empresa> ?? . \n",
        "      } \"\"\", [nome.lower()]))\n",
        "  if empresa:\n",
        "    return empresa[0][0]\n",
        "  else:\n",
        "    return empresa\n",
        "\n",
        "def procurarPalavraChave(resumo:str):\n",
        "  array_pc = list()\n",
        "  query_pc = list(default_world.sparql(\"\"\"\n",
        "      SELECT ?p WHERE {\n",
        "        ?y <http://www.semanticweb.org/pantro/ontologies/2022/8/match#tem_nome_empresa> 'admin' .\n",
        "        ?y <http://www.semanticweb.org/pantro/ontologies/2022/8/match#tem_palavra_chave> ?x .\n",
        "        ?x <http://www.semanticweb.org/pantro/ontologies/2022/8/match#tem_nome_palavra_chave> ?p .\n",
        "      } \"\"\"))\n",
        "  \n",
        "  for x in query_pc:\n",
        "    if x[0] in resumo:\n",
        "      array_pc.append(x[0])\n",
        "    \n",
        "  return array_pc\n",
        "\n",
        "def procurarObjetoPalavraChave(empresa, nome_pc:str):\n",
        "  objeto_pc = ''\n",
        "  query_pc = list(default_world.sparql(\"\"\"\n",
        "      SELECT DISTINCT ?pc WHERE {\n",
        "        ?? <http://www.semanticweb.org/pantro/ontologies/2022/8/match#tem_palavra_chave> ?pc .\n",
        "        ?pc <http://www.semanticweb.org/pantro/ontologies/2022/8/match#tem_nome_palavra_chave> ?? .\n",
        "      } \"\"\", [empresa, pc]))\n",
        "  if query_pc:\n",
        "    objeto_pc = query_pc[0][0]\n",
        "    \n",
        "  return objeto_pc\n",
        "\n",
        "def procurarObjetoPerfilTI(empresa, nome_pti:str):\n",
        "  objeto_pti = ''\n",
        "  query_pti = list(default_world.sparql(\"\"\"\n",
        "      SELECT DISTINCT ?pti WHERE {\n",
        "        ?? <http://www.semanticweb.org/pantro/ontologies/2022/8/match#tem_palavra_chave> ?pc .\n",
        "        ?pc <http://www.semanticweb.org/pantro/ontologies/2022/8/match#tem_perfil_ti> ?pti .\n",
        "        ?pti <http://www.semanticweb.org/pantro/ontologies/2022/8/match#tem_nome_perfil_ti> ?? .\n",
        "      } \"\"\", [empresa, nome_pti]))\n",
        "  \n",
        "  if query_pti:\n",
        "    objeto_pti = query_pti[0][0]\n",
        "    \n",
        "  return objeto_pti\n",
        "\n",
        "def procurarObjetoTecnologia(empresa, nome_pti:str, nome_tc:str):\n",
        "  objeto_tc = ''\n",
        "  query_tc = list(default_world.sparql(\"\"\"\n",
        "      SELECT DISTINCT ?tc WHERE {\n",
        "        ?? <http://www.semanticweb.org/pantro/ontologies/2022/8/match#tem_palavra_chave> ?pc .\n",
        "        ?pc <http://www.semanticweb.org/pantro/ontologies/2022/8/match#tem_perfil_ti> ?pti .\n",
        "        ?pti <http://www.semanticweb.org/pantro/ontologies/2022/8/match#tem_nome_perfil_ti> ?? .\n",
        "        ?pti <http://www.semanticweb.org/pantro/ontologies/2022/8/match#tem_tecnologia> ?tc .\n",
        "        ?tc <http://www.semanticweb.org/pantro/ontologies/2022/8/match#tem_nome_tecnologia> ?? .\n",
        "      } \"\"\", [empresa, nome_pti, nome_tc]))\n",
        "  \n",
        "  if query_tc:\n",
        "    objeto_tc = query_tc[0][0]\n",
        "    \n",
        "  return objeto_tc\n",
        "\n",
        "def mostrarRecomendacao(empresa, array_pc:list):\n",
        "  array_pc_geral = list()\n",
        "  array_pc_personalizada = list()\n",
        "\n",
        "  for pc in array_pc:\n",
        "    query_pc = list(default_world.sparql(\"\"\"\n",
        "        SELECT ?p WHERE {\n",
        "          ?? <http://www.semanticweb.org/pantro/ontologies/2022/8/match#tem_palavra_chave> ?p .\n",
        "          ?p <http://www.semanticweb.org/pantro/ontologies/2022/8/match#tem_nome_palavra_chave> ?? . \n",
        "        } \"\"\", [empresa, pc]))\n",
        "    if query_pc:\n",
        "      array_pc_personalizada.append(pc)\n",
        "    else :\n",
        "      array_pc_geral.append(pc)\n",
        "\n",
        "  recomendacaoPersonalizada(empresa, array_pc_personalizada)\n",
        "  recomendacaoPorUsuario(array_pc)\n",
        "  recomendacaoGeral(array_pc_geral)\n",
        "  return [array_pc_personalizada, array_pc_geral]\n",
        "\n",
        "def recomendacaoGeral (array_pc_geral:list):\n",
        "  dict_result = dict()\n",
        "  for pc in array_pc_geral:\n",
        "    #Você tem que pesquisar todos os perfis que possuem essa palavra-chave\n",
        "    query_nome_perfil_ti = list(default_world.sparql(\"\"\"\n",
        "      SELECT DISTINCT ?p WHERE {\n",
        "        ?x <http://www.semanticweb.org/pantro/ontologies/2022/8/match#tem_nome_palavra_chave> ?? .\n",
        "        ?x <http://www.semanticweb.org/pantro/ontologies/2022/8/match#tem_perfil_ti> ?z .\n",
        "        ?z <http://www.semanticweb.org/pantro/ontologies/2022/8/match#tem_nome_perfil_ti> ?p .\n",
        "      } \"\"\", [pc]))\n",
        "    if query_nome_perfil_ti:\n",
        "      for y in query_nome_perfil_ti:\n",
        "        query_nome_tecnologia = list(default_world.sparql(\"\"\"\n",
        "          SELECT DISTINCT ?p WHERE {\n",
        "            ?x <http://www.semanticweb.org/pantro/ontologies/2022/8/match#tem_nome_perfil_ti> ?? .\n",
        "            ?x <http://www.semanticweb.org/pantro/ontologies/2022/8/match#tem_tecnologia> ?z .\n",
        "            ?z <http://www.semanticweb.org/pantro/ontologies/2022/8/match#tem_nome_tecnologia> ?p .\n",
        "          } \"\"\", [y[0]]))\n",
        "        if query_nome_tecnologia:\n",
        "          array_nome_tecnologia =list()\n",
        "          for tc in query_nome_tecnologia:\n",
        "            array_nome_tecnologia.append(tc[0])\n",
        "          #Forma minha estrutura para armazenar perfis e suas respectivas tecnologias\n",
        "          dict_result[y[0]] = array_nome_tecnologia\n",
        "  print('RECOMENDACOES GERAIS')\n",
        "  print('--------------------')\n",
        "  mostrarTela(dict_result)\n",
        "  print('--------------------')\n",
        "  return \n",
        "\n",
        "def recomendacaoPersonalizada(empresa, array_pc_personalizada:list):\n",
        "  dict_result = dict()\n",
        "  for pc in array_pc_personalizada:\n",
        "    #Você tem que pesquisar todos os perfis que possuem essa palavra-chave\n",
        "    query_nome_perfil_ti = list(default_world.sparql(\"\"\"\n",
        "      SELECT DISTINCT ?p WHERE {\n",
        "        ?? <http://www.semanticweb.org/pantro/ontologies/2022/8/match#tem_palavra_chave> ?x .\n",
        "        ?x <http://www.semanticweb.org/pantro/ontologies/2022/8/match#tem_nome_palavra_chave> ?? .\n",
        "        ?x <http://www.semanticweb.org/pantro/ontologies/2022/8/match#tem_perfil_ti> ?z .\n",
        "        ?z <http://www.semanticweb.org/pantro/ontologies/2022/8/match#tem_nome_perfil_ti> ?p .\n",
        "      } \"\"\", [empresa, pc]))\n",
        "      \n",
        "    if query_nome_perfil_ti:\n",
        "      for pti in query_nome_perfil_ti:\n",
        "        query_nome_tecnologia = list(default_world.sparql(\"\"\"\n",
        "          SELECT DISTINCT ?r WHERE {\n",
        "            ?? <http://www.semanticweb.org/pantro/ontologies/2022/8/match#tem_palavra_chave> ?pc .\n",
        "            ?pc <http://www.semanticweb.org/pantro/ontologies/2022/8/match#tem_nome_palavra_chave> ?? .\n",
        "            ?pc <http://www.semanticweb.org/pantro/ontologies/2022/8/match#tem_perfil_ti> ?pti .\n",
        "            ?pti <http://www.semanticweb.org/pantro/ontologies/2022/8/match#tem_nome_perfil_ti> ?? .\n",
        "            ?pti <http://www.semanticweb.org/pantro/ontologies/2022/8/match#tem_tecnologia> ?tc .\n",
        "            ?tc <http://www.semanticweb.org/pantro/ontologies/2022/8/match#tem_nome_tecnologia> ?r .\n",
        "          } \"\"\", [empresa, pc, pti[0]]))\n",
        "        if query_nome_tecnologia:\n",
        "          array_nome_tecnologia =list()\n",
        "          for tc in query_nome_tecnologia:\n",
        "            array_nome_tecnologia.append(tc[0])\n",
        "          #Forma minha estrutura para armazenar perfis e suas respectivas tecnologias\n",
        "          dict_result[pti[0]] = array_nome_tecnologia\n",
        "  print('RECOMENDACOES PERSONALIZADAS')\n",
        "  print('----------------------------')\n",
        "  mostrarTela(dict_result)\n",
        "  print('----------------------------')\n",
        "  return \n",
        "\n",
        "def recomendacaoPorUsuario(array_pc:list):\n",
        "  dict_result = dict()\n",
        "  for pc in array_pc:\n",
        "    #Você tem que pesquisar todos os perfis que possuem essa palavra-chave\n",
        "    query_nome_perfil_ti = list(default_world.sparql(\"\"\"\n",
        "      SELECT DISTINCT ?nome_pti WHERE {\n",
        "        ?pc <http://www.semanticweb.org/pantro/ontologies/2022/8/match#tem_nome_palavra_chave> ?? .\n",
        "        ?c <http://www.semanticweb.org/pantro/ontologies/2022/8/match#tem_palavra_chave> ?pc .\n",
        "        ?c <http://www.semanticweb.org/pantro/ontologies/2022/8/match#tem_nome_empresa> ?nome_c .\n",
        "        FILTER (?nome_c != 'admin') .\n",
        "        ?pc <http://www.semanticweb.org/pantro/ontologies/2022/8/match#tem_perfil_ti> ?pti .\n",
        "        ?pti <http://www.semanticweb.org/pantro/ontologies/2022/8/match#tem_nome_perfil_ti> ?nome_pti .\n",
        "      } \"\"\", [pc]))\n",
        "      \n",
        "    if query_nome_perfil_ti:\n",
        "      for pti in query_nome_perfil_ti:\n",
        "        query_nome_tecnologia = list(default_world.sparql(\"\"\"\n",
        "          SELECT DISTINCT ?nome_tc WHERE {\n",
        "            ?pc <http://www.semanticweb.org/pantro/ontologies/2022/8/match#tem_nome_palavra_chave> ?? .\n",
        "            ?c <http://www.semanticweb.org/pantro/ontologies/2022/8/match#tem_palavra_chave> ?pc .\n",
        "            ?c <http://www.semanticweb.org/pantro/ontologies/2022/8/match#tem_nome_empresa> ?nome_c .\n",
        "            FILTER (?nome_c != 'admin') .\n",
        "            ?pc <http://www.semanticweb.org/pantro/ontologies/2022/8/match#tem_perfil_ti> ?pti .\n",
        "            ?pti <http://www.semanticweb.org/pantro/ontologies/2022/8/match#tem_nome_perfil_ti> ?? .\n",
        "            ?pti <http://www.semanticweb.org/pantro/ontologies/2022/8/match#tem_tecnologia> ?tc .\n",
        "            ?tc <http://www.semanticweb.org/pantro/ontologies/2022/8/match#tem_nome_tecnologia> ?nome_tc .\n",
        "          } \"\"\", [pc,pti[0]]))\n",
        "        \n",
        "        if query_nome_tecnologia:\n",
        "          array_nome_tecnologia =list()\n",
        "          for tc in query_nome_tecnologia:\n",
        "            array_nome_tecnologia.append(tc[0])\n",
        "          #Forma minha estrutura para armazenar perfis e suas respectivas tecnologias\n",
        "          dict_result[pti[0]] = array_nome_tecnologia\n",
        "  print('RECOMENDACOES POR USUARIO')\n",
        "  print('----------------------------')\n",
        "  mostrarTela(dict_result)\n",
        "  print('----------------------------')\n",
        "  return \n",
        "\n",
        "def mostrarTela(dict_result):\n",
        "  for item in dict_result:\n",
        "    print(item)\n",
        "    for tc in dict_result[item]:\n",
        "      print('- '+tc)\n",
        "  return\n",
        "\n",
        "def mostrarPerfilTI():\n",
        "  array_nome_perfil_ti = list()\n",
        "  query_perfil_ti = list(default_world.sparql(\"\"\"\n",
        "          SELECT DISTINCT ?nome_pti WHERE {\n",
        "            ?pti <http://www.semanticweb.org/pantro/ontologies/2022/8/match#tem_nome_perfil_ti> ?nome_pti .\n",
        "          } \"\"\"))\n",
        "  cont = 1\n",
        "  for pti in query_perfil_ti:\n",
        "    print(str(cont),'.-',pti[0].upper())\n",
        "    cont+=1\n",
        "    array_nome_perfil_ti.append(pti[0])\n",
        "\n",
        "  return array_nome_perfil_ti\n",
        "\n",
        "def mostrarTecnologia():\n",
        "  array_nome_tecnologia = list()\n",
        "  query_tecnologia = list(default_world.sparql(\"\"\"\n",
        "          SELECT DISTINCT ?nome_tc WHERE {\n",
        "            ?tc <http://www.semanticweb.org/pantro/ontologies/2022/8/match#tem_nome_tecnologia> ?nome_tc .\n",
        "          } \"\"\"))\n",
        "  cont = 1\n",
        "  for tc in query_tecnologia:\n",
        "    print(str(cont),'.-',tc[0].upper())\n",
        "    cont+=1\n",
        "    array_nome_tecnologia.append(tc[0])\n",
        "\n",
        "  return array_nome_tecnologia"
      ]
    },
    {
      "cell_type": "code",
      "execution_count": null,
      "metadata": {
        "id": "Q0KEmXFx7Q0w"
      },
      "outputs": [],
      "source": [
        "#Creando admin\n",
        "admin = criarComprador('admin', 'campinas')\n",
        "pc_1 = criarPalavraChave('servidor')\n",
        "pc_2 = criarPalavraChave('pagina web')\n",
        "\n",
        "pti_1 = criarPerfilTI('soluciones cloud computing')#servidor\n",
        "pti_2 = criarPerfilTI('soluciones crm')#servidor\n",
        "pti_3 = criarPerfilTI('soluciones de desenvolvimento de software')#pagina web'\n",
        "\n",
        "#Tecnologias\n",
        "tc_1 = criarOutras('alibaba')#soluciones cloud computing\n",
        "tc_2 = criarOutras('aws')#soluciones cloud computing\n",
        "tc_3 = criarOutras('azure')#soluciones cloud computing\n",
        "tc_4 = criarNaoRelacional('mongodb')#soluciones cloud computing\n",
        "tc_5 = criarRelacional('mysql')#soluciones cloud computing\n",
        "tc_6 = criarRelacional('oracle')#soluciones cloud computing\n",
        "\n",
        "\n",
        "tc_7 = criarRelacional('oracle')#soluciones crm\n",
        "tc_8 = criarOutras('powerbi')#soluciones crm\n",
        "tc_9 = criarOutras('sap')#soluciones crm\n",
        "tc_10 = criarOutras('sas')#soluciones crm\n",
        "\n",
        "tc_11 = criarFrontend('angular')#Soluciones de Desenvolvimento de Software\n",
        "tc_12 = criarBackend('c++')#Soluciones de Desenvolvimento de Software\n",
        "tc_13 = criarFrontend('html')#Soluciones de Desenvolvimento de Software\n",
        "tc_14 = criarFrontend('css')#Soluciones de Desenvolvimento de Software\n",
        "tc_15 = criarNaoRelacional('mongodb')#Soluciones de Desenvolvimento de Software\n",
        "tc_16 = criarRelacional('mysql')#Soluciones de Desenvolvimento de Software\n",
        "tc_17 = criarRelacional('oracle')#Soluciones de Desenvolvimento de Software\n",
        "tc_18 = criarBackend('php')#Soluciones de Desenvolvimento de Software\n",
        "tc_19 = criarRelacional('postgresql')#Soluciones de Desenvolvimento de Software\n",
        "tc_20 = criarBackend('python')#Soluciones de Desenvolvimento de Software\n",
        "tc_21 = criarFrontend('reactjs')#Soluciones de Desenvolvimento de Software\n",
        "\n",
        "#Relacionando\n",
        "admin.tem_palavra_chave = [pc_1, pc_2]\n",
        "pc_1.tem_perfil_ti = [pti_1, pti_2]\n",
        "pc_2.tem_perfil_ti = [pti_3]\n",
        "pti_1.tem_tecnologia = [tc_1, tc_2, tc_3, tc_4, tc_5, tc_6 ]\n",
        "pti_2.tem_tecnologia = [tc_7, tc_8, tc_9, tc_10]\n",
        "pti_3.tem_tecnologia = [tc_11, tc_12, tc_13, tc_14, tc_15, tc_16, tc_17, tc_18, tc_18, tc_20, tc_21]"
      ]
    },
    {
      "cell_type": "markdown",
      "metadata": {
        "id": "aUuyT7UKpzRY"
      },
      "source": [
        "# Primeira cenário"
      ]
    },
    {
      "cell_type": "code",
      "execution_count": null,
      "metadata": {
        "colab": {
          "base_uri": "https://localhost:8080/"
        },
        "id": "njHE-RgLmtct",
        "outputId": "34b9344b-da7a-4c9c-85d7-e16696798d59"
      },
      "outputs": [
        {
          "name": "stdout",
          "output_type": "stream",
          "text": [
            "RECOMENDACOES PERSONALIZADAS\n",
            "----------------------------\n",
            "----------------------------\n",
            "RECOMENDACOES POR USUARIO\n",
            "----------------------------\n",
            "----------------------------\n",
            "RECOMENDACOES GERAIS\n",
            "--------------------\n",
            "soluciones cloud computing\n",
            "- mongodb\n",
            "- alibaba\n",
            "- aws\n",
            "- mysql\n",
            "- oracle\n",
            "- azure\n",
            "soluciones crm\n",
            "- powerbi\n",
            "- sap\n",
            "- oracle\n",
            "- sas\n",
            "--------------------\n"
          ]
        },
        {
          "data": {
            "text/plain": [
              "[[], ['servidor']]"
            ]
          },
          "execution_count": 13,
          "metadata": {},
          "output_type": "execute_result"
        }
      ],
      "source": [
        "#Exemplo 1\n",
        "exemplo_1 = criarComprador('exemplo 1','campinas')\n",
        "mostrarRecomendacao(exemplo_1, ['servidor'])"
      ]
    },
    {
      "cell_type": "markdown",
      "metadata": {
        "id": "8R7YRn21qIFh"
      },
      "source": [
        "#segundo cenário:"
      ]
    },
    {
      "cell_type": "code",
      "execution_count": null,
      "metadata": {
        "id": "504suWVDrYht"
      },
      "outputs": [],
      "source": [
        "#Creando comprador teste 1\n",
        "c_teste_1 = criarComprador('teste 1', 'sao paulo')\n",
        "pc_teste_1 = criarPalavraChave('pagina web')\n",
        "pti_teste_1 = criarPerfilTI('Soluciones de Desenvolvimento de Software')\n",
        "tc_teste_1 = criarTecnologia('php')\n",
        "tc_teste_2 = criarTecnologia('html')\n",
        "tc_teste_3 = criarTecnologia('mysql')\n",
        "#Relacionando\n",
        "c_teste_1.tem_palavra_chave = [pc_teste_1]\n",
        "pc_teste_1.tem_perfil_ti = [pti_teste_1]\n",
        "pti_teste_1.tem_tecnologia = [tc_teste_1, tc_teste_2, tc_teste_3]"
      ]
    },
    {
      "cell_type": "code",
      "execution_count": null,
      "metadata": {
        "id": "oPmtkSLNOc9l"
      },
      "outputs": [],
      "source": [
        "#Creando comprador teste 2\n",
        "c_teste_2 = criarComprador('teste 2', 'minas gerais')\n",
        "pc_teste_2 = criarPalavraChave('pagina web')\n",
        "pti_teste_2 = criarPerfilTI('Soluciones de Desenvolvimento de Software')\n",
        "tc_teste = criarTecnologia('python')\n",
        "#Relacionando\n",
        "c_teste_2.tem_palavra_chave = [pc_teste_2]\n",
        "pc_teste_2.tem_perfil_ti = [pti_teste_2]\n",
        "pti_teste_2.tem_tecnologia = [tc_teste]"
      ]
    },
    {
      "cell_type": "code",
      "execution_count": null,
      "metadata": {
        "colab": {
          "base_uri": "https://localhost:8080/"
        },
        "id": "LORWbMObqa4w",
        "outputId": "72225272-3076-4782-a303-2e08ff002bdb"
      },
      "outputs": [
        {
          "name": "stdout",
          "output_type": "stream",
          "text": [
            "RECOMENDACOES PERSONALIZADAS\n",
            "----------------------------\n",
            "----------------------------\n",
            "RECOMENDACOES POR USUARIO\n",
            "----------------------------\n",
            "- php\n",
            "- mysql\n",
            "- html\n",
            "- python\n",
            "----------------------------\n",
            "RECOMENDACOES GERAIS\n",
            "--------------------\n",
            "- reactjs\n",
            "- html\n",
            "- mysql\n",
            "- php\n",
            "- css\n",
            "- oracle\n",
            "- angular\n",
            "- python\n",
            "- mongodb\n",
            "- c++\n",
            "- alibaba\n",
            "- azure\n",
            "- oracle\n",
            "- aws\n",
            "- mysql\n",
            "- mongodb\n",
            "--------------------\n"
          ]
        },
        {
          "data": {
            "text/plain": [
              "[[], ['pagina web']]"
            ]
          },
          "execution_count": 18,
          "metadata": {},
          "output_type": "execute_result"
        }
      ],
      "source": [
        "#Exemplo 2\n",
        "exemplo_2 = criarComprador('exemplo 2','barao geral')\n",
        "mostrarRecomendacao(exemplo_2, ['pagina web'])"
      ]
    },
    {
      "cell_type": "markdown",
      "metadata": {
        "id": "sVbTUSCoxTiZ"
      },
      "source": [
        "#Terceiro cenário:"
      ]
    },
    {
      "cell_type": "code",
      "execution_count": null,
      "metadata": {
        "colab": {
          "base_uri": "https://localhost:8080/"
        },
        "id": "E-J0Iqh3xTGy",
        "outputId": "c3ed80dd-a1a1-4186-8c63-f84b5b984ab5"
      },
      "outputs": [
        {
          "name": "stdout",
          "output_type": "stream",
          "text": [
            "RECOMENDACOES PERSONALIZADAS\n",
            "----------------------------\n",
            "soluciones de desenvolvimento de software\n",
            "- html\n",
            "- php\n",
            "- mysql\n",
            "----------------------------\n",
            "RECOMENDACOES POR USUARIO\n",
            "----------------------------\n",
            "soluciones de desenvolvimento de software\n",
            "- php\n",
            "- mysql\n",
            "- html\n",
            "- python\n",
            "----------------------------\n",
            "RECOMENDACOES GERAIS\n",
            "--------------------\n",
            "--------------------\n"
          ]
        },
        {
          "data": {
            "text/plain": [
              "[['pagina web'], []]"
            ]
          },
          "execution_count": 32,
          "metadata": {},
          "output_type": "execute_result"
        }
      ],
      "source": [
        "mostrarRecomendacao(c_teste_1, ['pagina web'])"
      ]
    },
    {
      "cell_type": "markdown",
      "metadata": {
        "id": "wtLIbiSmUhFn"
      },
      "source": [
        "#AMBIENTE DE PRODUÇÃO\n"
      ]
    },
    {
      "cell_type": "code",
      "execution_count": null,
      "metadata": {
        "colab": {
          "background_save": true,
          "base_uri": "https://localhost:8080/"
        },
        "id": "lQG5Xquf-y0T",
        "outputId": "fb298a8d-e176-4a19-f3de-29d63ed8df84"
      },
      "outputs": [
        {
          "name": "stdout",
          "output_type": "stream",
          "text": [
            "BEM-VINDO\n",
            "Você já tem uma conta? Digite o número escolhido.\n",
            "1.- Sim\n",
            "2.- Não\n",
            "---------------------------------------------------------\n",
            "Digite o nome da sua empresa.\n",
            "Insira a localização da sua empresa.\n",
            "Que tipo é a sua empresa?. Digite o número escolhido.\n",
            "1.- Comprador\n",
            "2.- Vendedor\n",
            "---------------------------------------------------------\n",
            "O senhor quer criar um PROJETO?\n",
            "1.- Sim\n",
            "2.- Não\n",
            "---------------------------------------------------------\n",
            "Digite o nome da seu projeto.\n",
            "Insira um resumo da seu projeto.\n",
            "Nome do projeto é: \n",
            "mit.P_002\n",
            "RECOMENDACOES PERSONALIZADAS\n",
            "----------------------------\n",
            "----------------------------\n",
            "RECOMENDACOES POR USUARIO\n",
            "----------------------------\n",
            "soluciones de desenvolvimento de software\n",
            "- php\n",
            "- mysql\n",
            "- html\n",
            "- python\n",
            "----------------------------\n",
            "RECOMENDACOES GERAIS\n",
            "--------------------\n",
            "soluciones de desenvolvimento de software\n",
            "- angular\n",
            "- python\n",
            "- mongodb\n",
            "- c++\n",
            "- php\n",
            "- html\n",
            "- reactjs\n",
            "- mysql\n",
            "- css\n",
            "- oracle\n",
            "--------------------\n",
            "Escolha um Perfil de TI para o seu projeto.\n",
            "1 .- SOLUCIONES CLOUD COMPUTING\n",
            "2 .- SOLUCIONES CRM\n",
            "3 .- SOLUCIONES DE DESENVOLVIMENTO DE SOFTWARE\n"
          ]
        }
      ],
      "source": [
        "print(\"BEM-VINDO\")\n",
        "print(\"Você já tem uma conta? Digite o número escolhido.\")\n",
        "print(\"1.- Sim\")\n",
        "print(\"2.- Não\")\n",
        "option = input()\n",
        "print('---------------------------------------------------------')\n",
        "print(\"Digite o nome da sua empresa.\")\n",
        "nome = input().lower()\n",
        "if option == '1':\n",
        "  #- OBJETO EMPRESA\n",
        "  empresa = procurarEmpresa(nome)\n",
        "  if empresa:\n",
        "    print(\"Nombre de la empresa es: \")\n",
        "    print(empresa)\n",
        "  else:\n",
        "    print(\"Nao existe empresa\")\n",
        "else:\n",
        "  print(\"Insira a localização da sua empresa.\")\n",
        "  localizacao = input().lower()\n",
        "  print(\"Que tipo é a sua empresa?. Digite o número escolhido.\")\n",
        "  print(\"1.- Comprador\")\n",
        "  print(\"2.- Vendedor\")\n",
        "  option = input()\n",
        "  \n",
        "  if option == '1':\n",
        "    #- OBJETO EMPRESA\n",
        "    empresa = criarComprador(nome, localizacao)\n",
        "  else:\n",
        "    #- OBJETO EMPRESA\n",
        "    empresa = criarVendedor(nome, localizacao)\n",
        "if empresa and empresa.is_a[0] == mit.Comprador_TI:\n",
        "  print('---------------------------------------------------------')\n",
        "  print(\"O senhor quer criar um PROJETO?\")\n",
        "  print(\"1.- Sim\")\n",
        "  print(\"2.- Não\")\n",
        "  option = input().lower()\n",
        "  if option == '1':\n",
        "    print('---------------------------------------------------------')\n",
        "    print(\"Digite o nome da seu projeto.\")\n",
        "    nome = input().lower()\n",
        "    print(\"Insira um resumo da seu projeto.\")\n",
        "    resumo = input().lower()\n",
        "    #- OBJETO PROJETO\n",
        "    projeto = criarProjeto(nome, resumo)\n",
        "    print(\"Nome do projeto é: \")\n",
        "    print(projeto)\n",
        "    #Vincular EMPRESA ao PROJETO\n",
        "    empresa.tem_projeto = [projeto] \n",
        "    array_palavra_chave = procurarPalavraChave(resumo)\n",
        "    obj_pc_personalizada = list()\n",
        "    obj_pc_geral = list()\n",
        "    if array_palavra_chave:\n",
        "      [array_pc_personalizada, array_pc_geral] = mostrarRecomendacao(empresa,array_palavra_chave)\n",
        "      for pc in array_pc_personalizada:\n",
        "        aux_obj = procurarObjetoPalavraChave(empresa, pc)\n",
        "        if aux_obj != '':\n",
        "          obj_pc_personalizada.append(aux_obj)\n",
        "      \n",
        "      for pc in array_pc_geral:\n",
        "        aux_pc = criarPalavraChave(pc)\n",
        "        obj_pc_geral.append(aux_pc)\n",
        "        #Vincular EMPRESA a PALAVRA_CHAVE geral\n",
        "        empresa.tem_palavra_chave.append(aux_pc)\n",
        "    else:\n",
        "      print(\"O resumo nao tem palvras chaves\")\n",
        "    \n",
        "    #ENTRADA DE DADOS PARA PERFIL_TI\n",
        "    aux_bool = True\n",
        "    while(aux_bool):\n",
        "      print(\"Escolha um Perfil de TI para o seu projeto.\")\n",
        "      array_nome_perfil_ti = mostrarPerfilTI()\n",
        "      num_perfil_ti = input()\n",
        "      num_perfil_ti = int(num_perfil_ti)\n",
        "      if num_perfil_ti <= len(array_nome_perfil_ti):\n",
        "        print(array_nome_perfil_ti[num_perfil_ti-1])\n",
        "        aux_obj = procurarObjetoPerfilTI(empresa, array_nome_perfil_ti[num_perfil_ti-1])        \n",
        "        if aux_obj != '':\n",
        "          perfil_ti = aux_obj\n",
        "        else :\n",
        "          perfil_ti = criarPerfilTI(array_nome_perfil_ti[num_perfil_ti-1])\n",
        "        #Vincular PROJETO ao PERFIL_TI\n",
        "        projeto.tem_perfil_ti = [perfil_ti]\n",
        "        #Vincular PALAVRA_CHAVE ao PERFIL_TI personalizado\n",
        "        for pc in obj_pc_personalizada:\n",
        "          cont = 0\n",
        "          for pti in pc.tem_perfil_ti:\n",
        "            if pti.tem_nome_perfil_ti == perfil_ti.tem_nome_perfil_ti:\n",
        "              pc.tem_perfil_ti[cont] = perfil_ti\n",
        "            cont+=1\n",
        "\n",
        "        #Vincular PALAVRA_CHAVE ao PERFIL_TI geral\n",
        "        for pc in obj_pc_geral:\n",
        "          pc.tem_perfil_ti = [perfil_ti]\n",
        "\n",
        "        aux_bool = False\n",
        "      else:\n",
        "        print(\"Opção errada\")\n",
        "\n",
        "    #- OBJETO TECNOLOGIA\n",
        "    aux_bool = True\n",
        "    set_tecnologia = set()\n",
        "    while (aux_bool):\n",
        "      print(\"Escolha uma Tecnologia para o seu projeto.\")\n",
        "      array_nome_tecnologia = mostrarTecnologia()\n",
        "      print('0 .- Se você não quiser mais inserir mais tecnologias')\n",
        "      num_tecnologia = input()\n",
        "      num_tecnologia = int(num_tecnologia)\n",
        "      if num_tecnologia == 0:\n",
        "        aux_bool = False\n",
        "      else :  \n",
        "        if num_tecnologia <= len(array_nome_tecnologia):\n",
        "          set_tecnologia.add(array_nome_tecnologia[num_tecnologia-1])\n",
        "          print(set_tecnologia)\n",
        "    #Vincular PERFIL_TI ao TECNOLOGIA\n",
        "    #perfil_ti.tem_tecnologia = []\n",
        "    for tc in set_tecnologia:\n",
        "      aux_obj = procurarObjetoTecnologia(empresa, perfil_ti.tem_nome_perfil_ti[0], tc)\n",
        "      if aux_obj == '':\n",
        "        perfil_ti.tem_tecnologia.append(criarTecnologia(tc))\n",
        "\n",
        "print(\"Muito obrigado por usar nosso serviço.\")\n"
      ]
    },
    {
      "cell_type": "code",
      "execution_count": null,
      "metadata": {
        "id": "Wp52wNTFMnCv"
      },
      "outputs": [],
      "source": [
        "# now we can save without mixing the ontologies\n",
        "#onto.save(file=r\"./drive/MyDrive/Colab Notebooks/ontologias/teste_owlready.rdf\", format=\"rdfxml\")\n",
        "#onto2.save(file=r\"./drive/MyDrive/Colab Notebooks/ontologias/teste_owlready2.rdf\", format=\"rdfxml\") "
      ]
    }
  ],
  "metadata": {
    "colab": {
      "collapsed_sections": [],
      "provenance": []
    },
    "kernelspec": {
      "display_name": "Python 3",
      "name": "python3"
    },
    "language_info": {
      "name": "python"
    }
  },
  "nbformat": 4,
  "nbformat_minor": 0
}